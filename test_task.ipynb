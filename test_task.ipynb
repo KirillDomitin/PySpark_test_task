{
 "cells": [
  {
   "cell_type": "markdown",
   "id": "590983b1-f055-4a30-acda-63d96ed87d1e",
   "metadata": {},
   "source": [
    "## Создаем датафреймы"
   ]
  },
  {
   "cell_type": "code",
   "execution_count": 42,
   "id": "22d529cf-efbb-4c9f-bec9-e344afbcb515",
   "metadata": {},
   "outputs": [],
   "source": [
    "from pyspark.sql import SparkSession\n",
    "from pyspark.sql.functions import col\n",
    "from pyspark.sql.types import StructType, StructField, IntegerType, StringType\n",
    "\n",
    "spark = SparkSession.builder.getOrCreate()\n",
    "\n",
    "DATA_PATH = \"work/data_frames/\"\n",
    "\n",
    "# датафреймы\n",
    "products_df = spark.read.option(\"header\", \"true\").csv(DATA_PATH + \"products.csv\")\n",
    "categories_df = spark.read.option(\"header\", \"true\").csv(DATA_PATH + \"categories.csv\")\n",
    "product_category_df = spark.read.option(\"header\", \"true\").csv(DATA_PATH + \"product_category.csv\")\n",
    "\n",
    "products_df = products_df.withColumn(\"product_id\", col(\"product_id\").cast(\"int\"))\n",
    "categories_df = categories_df.withColumn(\"category_id\", col(\"category_id\").cast(\"int\"))\n",
    "product_category_df = product_category_df.withColumn(\"product_id\", col(\"product_id\").cast(\"int\")) \\\n",
    "    .withColumn(\"category_id\", col(\"category_id\").cast(\"int\"))\n"
   ]
  },
  {
   "cell_type": "markdown",
   "id": "084c3c86-eaa7-4b0a-a58c-91983ae95d9f",
   "metadata": {},
   "source": [
    "## Соединяем датафреймы products_df, categories_data, product_category_df"
   ]
  },
  {
   "cell_type": "code",
   "execution_count": 43,
   "id": "1693bf3d-7a9a-497c-a79c-c8153def4918",
   "metadata": {},
   "outputs": [
    {
     "name": "stdout",
     "output_type": "stream",
     "text": [
      "+------------+--------------------+\n",
      "|product_name|       category_name|\n",
      "+------------+--------------------+\n",
      "|      Яблоко|              Фрукты|\n",
      "|        Хлеб|Безглютеновые про...|\n",
      "|      Молоко|   Молочные продукты|\n",
      "|Куриное филе|     Мясные продукты|\n",
      "|     Шоколад|            Сладости|\n",
      "|      Огурец|               Овощи|\n",
      "|         Сыр|Безглютеновые про...|\n",
      "|         Сыр|   Молочные продукты|\n",
      "| Добрый Кола|                NULL|\n",
      "+------------+--------------------+\n",
      "\n"
     ]
    }
   ],
   "source": [
    "\n",
    "product_with_category = products_df.join(\n",
    "    product_category_df,\n",
    "    on=\"product_id\",\n",
    "    how=\"left\"\n",
    ")\n",
    "\n",
    "\n",
    "full_info = product_with_category.join(\n",
    "    categories_df,\n",
    "    on=\"category_id\",\n",
    "    how=\"left\"\n",
    ")\n",
    "\n",
    "# Оставляем только имя продукта и имя категории\n",
    "result = full_info.select(\"product_name\", \"category_name\").show()\n"
   ]
  },
  {
   "cell_type": "code",
   "execution_count": null,
   "id": "9be18334-fc89-4ba7-ba91-da9c6b700132",
   "metadata": {},
   "outputs": [],
   "source": []
  }
 ],
 "metadata": {
  "kernelspec": {
   "display_name": "Python 3 (ipykernel)",
   "language": "python",
   "name": "python3"
  },
  "language_info": {
   "codemirror_mode": {
    "name": "ipython",
    "version": 3
   },
   "file_extension": ".py",
   "mimetype": "text/x-python",
   "name": "python",
   "nbconvert_exporter": "python",
   "pygments_lexer": "ipython3",
   "version": "3.11.6"
  }
 },
 "nbformat": 4,
 "nbformat_minor": 5
}
